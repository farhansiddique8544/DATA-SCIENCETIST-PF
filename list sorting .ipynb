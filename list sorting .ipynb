{
 "cells": [
  {
   "cell_type": "code",
   "execution_count": 1,
   "id": "11a1e301",
   "metadata": {},
   "outputs": [],
   "source": [
    "# # Write a Python program which can take input of an integers list and sort it.\n",
    "# # Then can add any number in the list with sorted position "
   ]
  },
  {
   "cell_type": "code",
   "execution_count": null,
   "id": "d60aaff6",
   "metadata": {},
   "outputs": [
    {
     "name": "stdout",
     "output_type": "stream",
     "text": [
      "Enter numbers in list: 4735648724529836542984624982\n",
      "Sorted list: [2, 2, 2, 2, 2, 3, 3, 4, 4, 4, 4, 4, 4, 5, 5, 5, 6, 6, 6, 7, 7, 8, 8, 8, 8, 9, 9, 9]\n"
     ]
    }
   ],
   "source": [
    "list = [int(i) for i in input(\"Enter numbers in list: \")]\n",
    "list.sort()\n",
    "print(\"Sorted list:\", list)\n",
    "\n",
    "# Take input of a new number\n",
    "new_num = int(input(\"Enter a new number to add to the list: \"))\n",
    "\n",
    "# Find the position to insert the new number in the sorted list\n",
    "pos = 0\n",
    "for i in range(len(list)):\n",
    "    if new_num > list[i]:\n",
    "        pos = i + 1\n",
    "    else:\n",
    "        break\n",
    "\n",
    "# Insert the new number in the sorted list\n",
    "list.insert(pos, new_num)\n",
    "\n",
    "# Print the updated list\n",
    "print(\"Updated list:\", list)\n",
    "\n"
   ]
  }
 ],
 "metadata": {
  "kernelspec": {
   "display_name": "Python 3 (ipykernel)",
   "language": "python",
   "name": "python3"
  },
  "language_info": {
   "codemirror_mode": {
    "name": "ipython",
    "version": 3
   },
   "file_extension": ".py",
   "mimetype": "text/x-python",
   "name": "python",
   "nbconvert_exporter": "python",
   "pygments_lexer": "ipython3",
   "version": "3.9.7"
  }
 },
 "nbformat": 4,
 "nbformat_minor": 5
}
