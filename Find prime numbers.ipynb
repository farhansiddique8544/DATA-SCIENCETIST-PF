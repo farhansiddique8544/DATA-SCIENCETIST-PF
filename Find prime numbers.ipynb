{
 "cells": [
  {
   "cell_type": "code",
   "execution_count": 23,
   "id": "3d441c95",
   "metadata": {},
   "outputs": [],
   "source": [
    "# Problem statement 1Required python function for a students class which takes input from the user for \n",
    "# Total number of students in the class\n",
    "# Number of students with mathematics \n",
    "# Number of Students with Bio\n",
    "# Calculate the number of students without Math and Bio\n",
    "# Calculate the number of students with Math and Bio\n",
    "\n",
    "def students_number_calculation(totals,bios,maths):    \n",
    "     without_math_bio = totals - maths - bios\n",
    "     with_math_bio = maths + bios\n",
    "     print(\"Number of students without Math and Bio: \", without_math_bio)\n",
    "     print(\"Number of students with Math and Bio: \", with_math_bio)\n",
    " "
   ]
  },
  {
   "cell_type": "code",
   "execution_count": 24,
   "id": "39933e10",
   "metadata": {},
   "outputs": [
    {
     "name": "stdout",
     "output_type": "stream",
     "text": [
      "Number of students without Math and Bio:  -98\n",
      "Number of students with Math and Bio:  165\n"
     ]
    }
   ],
   "source": [
    "students_number_calculation(67,67,98)"
   ]
  },
  {
   "cell_type": "code",
   "execution_count": null,
   "id": "2dceeeae",
   "metadata": {},
   "outputs": [],
   "source": [
    "# Alternative Method\n",
    "def student_class():\n",
    "    total_s = int(input(\"Enter total number of students in the class: \"))\n",
    "    math_s = int(input(\"Enter number of students with mathematics: \"))\n",
    "    bio_s = int(input(\"Enter number of students with bio: \"))\n",
    "    \n",
    "    without_math_bio = total_s - math_s - bio_s\n",
    "    with_math_bio = math_s + bio_s\n",
    "    print(\"Number of students without Math and Bio: \", without_math_bio)\n",
    "    print(\"Number of students with Math and Bio: \", with_math_bio)\n",
    "student_class()"
   ]
  },
  {
   "cell_type": "code",
   "execution_count": 54,
   "id": "c1348309",
   "metadata": {},
   "outputs": [
    {
     "data": {
      "text/plain": [
       "False"
      ]
     },
     "execution_count": 54,
     "metadata": {},
     "output_type": "execute_result"
    }
   ],
   "source": [
    "# Need a method in python which find out the given number is prime number or not.\n",
    "# Case not prime number return the value of -1\n",
    "# Case prime number N calculate the sum of all number from 0 till the N\n",
    "\n",
    "\n",
    "def prime_sum(n):\n",
    "    if n <= 1:\n",
    "        return False\n",
    "    for i in range(2,n):\n",
    "        if n % i == 0:\n",
    "            return False\n",
    "    # If n is prime, calculate the sum of all numbers from 0 to n\n",
    "    return sum(range(n+1))\n",
    "prime_sum(-987)"
   ]
  }
 ],
 "metadata": {
  "kernelspec": {
   "display_name": "Python 3 (ipykernel)",
   "language": "python",
   "name": "python3"
  },
  "language_info": {
   "codemirror_mode": {
    "name": "ipython",
    "version": 3
   },
   "file_extension": ".py",
   "mimetype": "text/x-python",
   "name": "python",
   "nbconvert_exporter": "python",
   "pygments_lexer": "ipython3",
   "version": "3.9.7"
  }
 },
 "nbformat": 4,
 "nbformat_minor": 5
}
