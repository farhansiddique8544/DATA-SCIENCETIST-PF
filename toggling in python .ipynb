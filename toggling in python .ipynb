{
 "cells": [
  {
   "cell_type": "code",
   "execution_count": 13,
   "id": "4b57f129",
   "metadata": {},
   "outputs": [
    {
     "data": {
      "text/plain": [
       "'aPplE'"
      ]
     },
     "execution_count": 13,
     "metadata": {},
     "output_type": "execute_result"
    }
   ],
   "source": [
    "# Write a program in python to Toggle the case of every character of a string. For instance,\n",
    "# if the input string is “ApPLe”, the output should be “aPplE”.\n",
    "\n",
    "def toggle_case(string):\n",
    "    # Initialize an empty string\n",
    "    result = \"\"\n",
    "    for i in string:\n",
    "        if i.isupper():\n",
    "            # Convert to lowercase and add it to the result\n",
    "            result += i.lower()\n",
    "        # Check if the character is lowercase\n",
    "        elif i.islower():\n",
    "            # Convert to uppercase and add it to the result\n",
    "            result += i.upper()\n",
    "        # If the character is not a letter, simply add it to the result\n",
    "        else:\n",
    "             result += i\n",
    "\n",
    "    return result\n",
    "toggle_case('ApPLe')"
   ]
  },
  {
   "cell_type": "code",
   "execution_count": null,
   "id": "cd66dccf",
   "metadata": {},
   "outputs": [],
   "source": [
    "# string = \"ApPLe\"\n",
    "# toggled = toggle_case(string)\n",
    "# print(toggled)"
   ]
  }
 ],
 "metadata": {
  "kernelspec": {
   "display_name": "Python 3 (ipykernel)",
   "language": "python",
   "name": "python3"
  },
  "language_info": {
   "codemirror_mode": {
    "name": "ipython",
    "version": 3
   },
   "file_extension": ".py",
   "mimetype": "text/x-python",
   "name": "python",
   "nbconvert_exporter": "python",
   "pygments_lexer": "ipython3",
   "version": "3.10.9"
  }
 },
 "nbformat": 4,
 "nbformat_minor": 5
}
