{
 "cells": [
  {
   "cell_type": "code",
   "execution_count": 1,
   "id": "323ae1ee",
   "metadata": {},
   "outputs": [],
   "source": [
    "# TASK # 1\n",
    "def adding_to_list():\n",
    "    my_list = []\n",
    "    while len(my_list) < 10:\n",
    "        key = input(\"Please enter as key: \")\n",
    "        value = input(\"Please enter a value: \")\n",
    "        for i in my_list:\n",
    "            if i[0] == key:\n",
    "                print(\" This Key already exists.Please choose another key.\")\n",
    "                break\n",
    "        else:\n",
    "            my_list.append((key, value))\n",
    "        print(f\"Added ({key}:{value}) to the list.\")\n",
    "    print(\"List has 10 values\")\n",
    "    return my_list\n",
    "print(adding_to_list())\n"
   ]
  },
  {
   "cell_type": "code",
   "execution_count": 2,
   "id": "156f2f82",
   "metadata": {},
   "outputs": [],
   "source": [
    "# TASK # 2\n",
    "\n",
    "def changing_list():\n",
    "    my_list = [56,99,43,85,65]\n",
    "    add = input(\"Please enter a key: \")\n",
    "    my_list.insert(0,add)\n",
    "    if len(my_list) > 5:\n",
    "        my_list.pop(-1)\n",
    "    return my_list\n",
    "print(changing_list())"
   ]
  },
  {
   "cell_type": "code",
   "execution_count": 6,
   "id": "06f8c7c0",
   "metadata": {},
   "outputs": [
    {
     "name": "stdout",
     "output_type": "stream",
     "text": [
      "Enter a new value: 33\n",
      " This value is already in the list\n"
     ]
    }
   ],
   "source": [
    "# TASK # 3\n",
    "def non_repeating_list():\n",
    "    n_list=[54,87,65,98,33,23,28,51,20,58,27]\n",
    "    new=int(input(\"Enter a new value: \"))\n",
    "    for i in n_list:\n",
    "        if i == new:\n",
    "            print(\" This value is already in the list\")\n",
    "            break\n",
    "    else:\n",
    "        n_list.append(new)\n",
    "        print(n_list)\n",
    "non_repeating_list()"
   ]
  },
  {
   "cell_type": "code",
   "execution_count": null,
   "id": "fe9cc02b",
   "metadata": {},
   "outputs": [],
   "source": [
    "# TASK # 4\n",
    "\n",
    "c = 8\n",
    "r = 8\n",
    "arr = [[0] * c for i in range(r)]\n",
    "# loop will run for the length of the first list\n",
    "for i in range(r):\n",
    "# loop will run for the length of the associative list\n",
    "    for j in range(c):\n",
    "        if i < j: arr[i][j] = 9 \n",
    "        elif i > j:\n",
    "            arr[i][j] = 3\n",
    "        else:\n",
    "            arr[i][j] = 7\n",
    "for r in arr:\n",
    "    print( ' '.join([str(x) for x in r] ) )"
   ]
  }
 ],
 "metadata": {
  "kernelspec": {
   "display_name": "Python 3 (ipykernel)",
   "language": "python",
   "name": "python3"
  },
  "language_info": {
   "codemirror_mode": {
    "name": "ipython",
    "version": 3
   },
   "file_extension": ".py",
   "mimetype": "text/x-python",
   "name": "python",
   "nbconvert_exporter": "python",
   "pygments_lexer": "ipython3",
   "version": "3.9.7"
  }
 },
 "nbformat": 4,
 "nbformat_minor": 5
}
