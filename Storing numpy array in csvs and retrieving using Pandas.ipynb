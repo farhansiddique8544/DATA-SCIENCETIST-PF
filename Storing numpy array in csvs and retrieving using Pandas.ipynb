{
 "cells": [
  {
   "cell_type": "code",
   "execution_count": 1,
   "id": "0f753a4b",
   "metadata": {},
   "outputs": [],
   "source": [
    "import tensorflow as tf\n",
    "from tensorflow import keras"
   ]
  },
  {
   "cell_type": "markdown",
   "id": "a3f0a450",
   "metadata": {},
   "source": [
    "import pandas as pd\n",
    "dataset = keras.datasets.mnist.load_data()\n",
    "\n",
    "\n",
    "train_df = pd.DataFrame(list(zip(dataset[0][0], dataset[0][1])), columns =['image', 'label'])\n",
    "\n",
    "test_df = pd.DataFrame(list(zip(dataset[1][0], dataset[1][1])), columns =['image', 'label'])\n",
    "\n",
    "\n",
    "# part 1\n",
    "# save dfs into csvs or any related format"
   ]
  },
  {
   "cell_type": "code",
   "execution_count": 3,
   "id": "bfc659a1",
   "metadata": {},
   "outputs": [],
   "source": [
    "train_df.to_csv(\"train_csv_data.csv\")"
   ]
  },
  {
   "cell_type": "code",
   "execution_count": 4,
   "id": "fe63b09d",
   "metadata": {},
   "outputs": [],
   "source": [
    "test_df.to_csv(\"test_data_csv.csv\")"
   ]
  },
  {
   "cell_type": "markdown",
   "id": "1ffe856a",
   "metadata": {},
   "source": [
    "# part 2\n",
    "# load dataset from csvs and covert into orignal format ((np.array, np.array), (np.array, np.array))"
   ]
  },
  {
   "cell_type": "code",
   "execution_count": 5,
   "id": "9a3c753e",
   "metadata": {},
   "outputs": [
    {
     "data": {
      "text/html": [
       "<div>\n",
       "<style scoped>\n",
       "    .dataframe tbody tr th:only-of-type {\n",
       "        vertical-align: middle;\n",
       "    }\n",
       "\n",
       "    .dataframe tbody tr th {\n",
       "        vertical-align: top;\n",
       "    }\n",
       "\n",
       "    .dataframe thead th {\n",
       "        text-align: right;\n",
       "    }\n",
       "</style>\n",
       "<table border=\"1\" class=\"dataframe\">\n",
       "  <thead>\n",
       "    <tr style=\"text-align: right;\">\n",
       "      <th></th>\n",
       "      <th>Unnamed: 0</th>\n",
       "      <th>image</th>\n",
       "      <th>label</th>\n",
       "    </tr>\n",
       "  </thead>\n",
       "  <tbody>\n",
       "    <tr>\n",
       "      <th>0</th>\n",
       "      <td>0</td>\n",
       "      <td>[[  0   0   0   0   0   0   0   0   0   0   0 ...</td>\n",
       "      <td>5</td>\n",
       "    </tr>\n",
       "    <tr>\n",
       "      <th>1</th>\n",
       "      <td>1</td>\n",
       "      <td>[[  0   0   0   0   0   0   0   0   0   0   0 ...</td>\n",
       "      <td>0</td>\n",
       "    </tr>\n",
       "    <tr>\n",
       "      <th>2</th>\n",
       "      <td>2</td>\n",
       "      <td>[[  0   0   0   0   0   0   0   0   0   0   0 ...</td>\n",
       "      <td>4</td>\n",
       "    </tr>\n",
       "    <tr>\n",
       "      <th>3</th>\n",
       "      <td>3</td>\n",
       "      <td>[[  0   0   0   0   0   0   0   0   0   0   0 ...</td>\n",
       "      <td>1</td>\n",
       "    </tr>\n",
       "    <tr>\n",
       "      <th>4</th>\n",
       "      <td>4</td>\n",
       "      <td>[[  0   0   0   0   0   0   0   0   0   0   0 ...</td>\n",
       "      <td>9</td>\n",
       "    </tr>\n",
       "    <tr>\n",
       "      <th>...</th>\n",
       "      <td>...</td>\n",
       "      <td>...</td>\n",
       "      <td>...</td>\n",
       "    </tr>\n",
       "    <tr>\n",
       "      <th>59995</th>\n",
       "      <td>59995</td>\n",
       "      <td>[[  0   0   0   0   0   0   0   0   0   0   0 ...</td>\n",
       "      <td>8</td>\n",
       "    </tr>\n",
       "    <tr>\n",
       "      <th>59996</th>\n",
       "      <td>59996</td>\n",
       "      <td>[[  0   0   0   0   0   0   0   0   0   0   0 ...</td>\n",
       "      <td>3</td>\n",
       "    </tr>\n",
       "    <tr>\n",
       "      <th>59997</th>\n",
       "      <td>59997</td>\n",
       "      <td>[[  0   0   0   0   0   0   0   0   0   0   0 ...</td>\n",
       "      <td>5</td>\n",
       "    </tr>\n",
       "    <tr>\n",
       "      <th>59998</th>\n",
       "      <td>59998</td>\n",
       "      <td>[[  0   0   0   0   0   0   0   0   0   0   0 ...</td>\n",
       "      <td>6</td>\n",
       "    </tr>\n",
       "    <tr>\n",
       "      <th>59999</th>\n",
       "      <td>59999</td>\n",
       "      <td>[[  0   0   0   0   0   0   0   0   0   0   0 ...</td>\n",
       "      <td>8</td>\n",
       "    </tr>\n",
       "  </tbody>\n",
       "</table>\n",
       "<p>60000 rows × 3 columns</p>\n",
       "</div>"
      ],
      "text/plain": [
       "       Unnamed: 0                                              image  label\n",
       "0               0  [[  0   0   0   0   0   0   0   0   0   0   0 ...      5\n",
       "1               1  [[  0   0   0   0   0   0   0   0   0   0   0 ...      0\n",
       "2               2  [[  0   0   0   0   0   0   0   0   0   0   0 ...      4\n",
       "3               3  [[  0   0   0   0   0   0   0   0   0   0   0 ...      1\n",
       "4               4  [[  0   0   0   0   0   0   0   0   0   0   0 ...      9\n",
       "...           ...                                                ...    ...\n",
       "59995       59995  [[  0   0   0   0   0   0   0   0   0   0   0 ...      8\n",
       "59996       59996  [[  0   0   0   0   0   0   0   0   0   0   0 ...      3\n",
       "59997       59997  [[  0   0   0   0   0   0   0   0   0   0   0 ...      5\n",
       "59998       59998  [[  0   0   0   0   0   0   0   0   0   0   0 ...      6\n",
       "59999       59999  [[  0   0   0   0   0   0   0   0   0   0   0 ...      8\n",
       "\n",
       "[60000 rows x 3 columns]"
      ]
     },
     "execution_count": 5,
     "metadata": {},
     "output_type": "execute_result"
    }
   ],
   "source": [
    "train_data=pd.read_csv('train_csv_data.csv')\n",
    "train_data"
   ]
  },
  {
   "cell_type": "code",
   "execution_count": 6,
   "id": "eb523cee",
   "metadata": {},
   "outputs": [
    {
     "data": {
      "text/html": [
       "<div>\n",
       "<style scoped>\n",
       "    .dataframe tbody tr th:only-of-type {\n",
       "        vertical-align: middle;\n",
       "    }\n",
       "\n",
       "    .dataframe tbody tr th {\n",
       "        vertical-align: top;\n",
       "    }\n",
       "\n",
       "    .dataframe thead th {\n",
       "        text-align: right;\n",
       "    }\n",
       "</style>\n",
       "<table border=\"1\" class=\"dataframe\">\n",
       "  <thead>\n",
       "    <tr style=\"text-align: right;\">\n",
       "      <th></th>\n",
       "      <th>Unnamed: 0</th>\n",
       "      <th>image</th>\n",
       "      <th>label</th>\n",
       "    </tr>\n",
       "  </thead>\n",
       "  <tbody>\n",
       "    <tr>\n",
       "      <th>0</th>\n",
       "      <td>0</td>\n",
       "      <td>[[  0   0   0   0   0   0   0   0   0   0   0 ...</td>\n",
       "      <td>7</td>\n",
       "    </tr>\n",
       "    <tr>\n",
       "      <th>1</th>\n",
       "      <td>1</td>\n",
       "      <td>[[  0   0   0   0   0   0   0   0   0   0   0 ...</td>\n",
       "      <td>2</td>\n",
       "    </tr>\n",
       "    <tr>\n",
       "      <th>2</th>\n",
       "      <td>2</td>\n",
       "      <td>[[  0   0   0   0   0   0   0   0   0   0   0 ...</td>\n",
       "      <td>1</td>\n",
       "    </tr>\n",
       "    <tr>\n",
       "      <th>3</th>\n",
       "      <td>3</td>\n",
       "      <td>[[  0   0   0   0   0   0   0   0   0   0   0 ...</td>\n",
       "      <td>0</td>\n",
       "    </tr>\n",
       "    <tr>\n",
       "      <th>4</th>\n",
       "      <td>4</td>\n",
       "      <td>[[  0   0   0   0   0   0   0   0   0   0   0 ...</td>\n",
       "      <td>4</td>\n",
       "    </tr>\n",
       "    <tr>\n",
       "      <th>...</th>\n",
       "      <td>...</td>\n",
       "      <td>...</td>\n",
       "      <td>...</td>\n",
       "    </tr>\n",
       "    <tr>\n",
       "      <th>9995</th>\n",
       "      <td>9995</td>\n",
       "      <td>[[  0   0   0   0   0   0   0   0   0   0   0 ...</td>\n",
       "      <td>2</td>\n",
       "    </tr>\n",
       "    <tr>\n",
       "      <th>9996</th>\n",
       "      <td>9996</td>\n",
       "      <td>[[  0   0   0   0   0   0   0   0   0   0   0 ...</td>\n",
       "      <td>3</td>\n",
       "    </tr>\n",
       "    <tr>\n",
       "      <th>9997</th>\n",
       "      <td>9997</td>\n",
       "      <td>[[  0   0   0   0   0   0   0   0   0   0   0 ...</td>\n",
       "      <td>4</td>\n",
       "    </tr>\n",
       "    <tr>\n",
       "      <th>9998</th>\n",
       "      <td>9998</td>\n",
       "      <td>[[  0   0   0   0   0   0   0   0   0   0   0 ...</td>\n",
       "      <td>5</td>\n",
       "    </tr>\n",
       "    <tr>\n",
       "      <th>9999</th>\n",
       "      <td>9999</td>\n",
       "      <td>[[  0   0   0   0   0   0   0   0   0   0   0 ...</td>\n",
       "      <td>6</td>\n",
       "    </tr>\n",
       "  </tbody>\n",
       "</table>\n",
       "<p>10000 rows × 3 columns</p>\n",
       "</div>"
      ],
      "text/plain": [
       "      Unnamed: 0                                              image  label\n",
       "0              0  [[  0   0   0   0   0   0   0   0   0   0   0 ...      7\n",
       "1              1  [[  0   0   0   0   0   0   0   0   0   0   0 ...      2\n",
       "2              2  [[  0   0   0   0   0   0   0   0   0   0   0 ...      1\n",
       "3              3  [[  0   0   0   0   0   0   0   0   0   0   0 ...      0\n",
       "4              4  [[  0   0   0   0   0   0   0   0   0   0   0 ...      4\n",
       "...          ...                                                ...    ...\n",
       "9995        9995  [[  0   0   0   0   0   0   0   0   0   0   0 ...      2\n",
       "9996        9996  [[  0   0   0   0   0   0   0   0   0   0   0 ...      3\n",
       "9997        9997  [[  0   0   0   0   0   0   0   0   0   0   0 ...      4\n",
       "9998        9998  [[  0   0   0   0   0   0   0   0   0   0   0 ...      5\n",
       "9999        9999  [[  0   0   0   0   0   0   0   0   0   0   0 ...      6\n",
       "\n",
       "[10000 rows x 3 columns]"
      ]
     },
     "execution_count": 6,
     "metadata": {},
     "output_type": "execute_result"
    }
   ],
   "source": [
    "test_data=pd.read_csv('test_data_csv.csv')\n",
    "test_data"
   ]
  },
  {
   "cell_type": "code",
   "execution_count": 7,
   "id": "42df87fa",
   "metadata": {},
   "outputs": [
    {
     "data": {
      "text/plain": [
       "<bound method IndexOpsMixin.to_numpy of 0        [[  0   0   0   0   0   0   0   0   0   0   0 ...\n",
       "1        [[  0   0   0   0   0   0   0   0   0   0   0 ...\n",
       "2        [[  0   0   0   0   0   0   0   0   0   0   0 ...\n",
       "3        [[  0   0   0   0   0   0   0   0   0   0   0 ...\n",
       "4        [[  0   0   0   0   0   0   0   0   0   0   0 ...\n",
       "                               ...                        \n",
       "59995    [[  0   0   0   0   0   0   0   0   0   0   0 ...\n",
       "59996    [[  0   0   0   0   0   0   0   0   0   0   0 ...\n",
       "59997    [[  0   0   0   0   0   0   0   0   0   0   0 ...\n",
       "59998    [[  0   0   0   0   0   0   0   0   0   0   0 ...\n",
       "59999    [[  0   0   0   0   0   0   0   0   0   0   0 ...\n",
       "Name: image, Length: 60000, dtype: object>"
      ]
     },
     "execution_count": 7,
     "metadata": {},
     "output_type": "execute_result"
    }
   ],
   "source": [
    "train_x=train_data.loc[:,'image']\n",
    "train_x\n",
    "x1=train_x.to_numpy\n",
    "x1"
   ]
  },
  {
   "cell_type": "code",
   "execution_count": 8,
   "id": "dbc4c4f1",
   "metadata": {},
   "outputs": [
    {
     "data": {
      "text/plain": [
       "<bound method IndexOpsMixin.to_numpy of 0        5\n",
       "1        0\n",
       "2        4\n",
       "3        1\n",
       "4        9\n",
       "        ..\n",
       "59995    8\n",
       "59996    3\n",
       "59997    5\n",
       "59998    6\n",
       "59999    8\n",
       "Name: label, Length: 60000, dtype: int64>"
      ]
     },
     "execution_count": 8,
     "metadata": {},
     "output_type": "execute_result"
    }
   ],
   "source": [
    "train_y=train_data.loc[:,'label']\n",
    "train_y\n",
    "x2=train_y.to_numpy\n",
    "x2"
   ]
  },
  {
   "cell_type": "code",
   "execution_count": 9,
   "id": "8389ea56",
   "metadata": {},
   "outputs": [
    {
     "data": {
      "text/plain": [
       "<bound method IndexOpsMixin.to_numpy of 0       [[  0   0   0   0   0   0   0   0   0   0   0 ...\n",
       "1       [[  0   0   0   0   0   0   0   0   0   0   0 ...\n",
       "2       [[  0   0   0   0   0   0   0   0   0   0   0 ...\n",
       "3       [[  0   0   0   0   0   0   0   0   0   0   0 ...\n",
       "4       [[  0   0   0   0   0   0   0   0   0   0   0 ...\n",
       "                              ...                        \n",
       "9995    [[  0   0   0   0   0   0   0   0   0   0   0 ...\n",
       "9996    [[  0   0   0   0   0   0   0   0   0   0   0 ...\n",
       "9997    [[  0   0   0   0   0   0   0   0   0   0   0 ...\n",
       "9998    [[  0   0   0   0   0   0   0   0   0   0   0 ...\n",
       "9999    [[  0   0   0   0   0   0   0   0   0   0   0 ...\n",
       "Name: image, Length: 10000, dtype: object>"
      ]
     },
     "execution_count": 9,
     "metadata": {},
     "output_type": "execute_result"
    }
   ],
   "source": [
    "test_x=test_data.loc[:,'image']\n",
    "test_x\n",
    "y1=test_x.to_numpy\n",
    "y1"
   ]
  },
  {
   "cell_type": "code",
   "execution_count": 10,
   "id": "545ef301",
   "metadata": {},
   "outputs": [
    {
     "data": {
      "text/plain": [
       "<bound method IndexOpsMixin.to_numpy of 0       7\n",
       "1       2\n",
       "2       1\n",
       "3       0\n",
       "4       4\n",
       "       ..\n",
       "9995    2\n",
       "9996    3\n",
       "9997    4\n",
       "9998    5\n",
       "9999    6\n",
       "Name: label, Length: 10000, dtype: int64>"
      ]
     },
     "execution_count": 10,
     "metadata": {},
     "output_type": "execute_result"
    }
   ],
   "source": [
    "test_y=test_data.loc[:,'label']\n",
    "test_y\n",
    "y2=test_y.to_numpy\n",
    "y2"
   ]
  },
  {
   "cell_type": "code",
   "execution_count": 11,
   "id": "cac3ae0b",
   "metadata": {},
   "outputs": [
    {
     "name": "stdout",
     "output_type": "stream",
     "text": [
      "((<bound method IndexOpsMixin.to_numpy of 0        [[  0   0   0   0   0   0   0   0   0   0   0 ...\n",
      "1        [[  0   0   0   0   0   0   0   0   0   0   0 ...\n",
      "2        [[  0   0   0   0   0   0   0   0   0   0   0 ...\n",
      "3        [[  0   0   0   0   0   0   0   0   0   0   0 ...\n",
      "4        [[  0   0   0   0   0   0   0   0   0   0   0 ...\n",
      "                               ...                        \n",
      "59995    [[  0   0   0   0   0   0   0   0   0   0   0 ...\n",
      "59996    [[  0   0   0   0   0   0   0   0   0   0   0 ...\n",
      "59997    [[  0   0   0   0   0   0   0   0   0   0   0 ...\n",
      "59998    [[  0   0   0   0   0   0   0   0   0   0   0 ...\n",
      "59999    [[  0   0   0   0   0   0   0   0   0   0   0 ...\n",
      "Name: image, Length: 60000, dtype: object>, <bound method IndexOpsMixin.to_numpy of 0        5\n",
      "1        0\n",
      "2        4\n",
      "3        1\n",
      "4        9\n",
      "        ..\n",
      "59995    8\n",
      "59996    3\n",
      "59997    5\n",
      "59998    6\n",
      "59999    8\n",
      "Name: label, Length: 60000, dtype: int64>), (<bound method IndexOpsMixin.to_numpy of 0       [[  0   0   0   0   0   0   0   0   0   0   0 ...\n",
      "1       [[  0   0   0   0   0   0   0   0   0   0   0 ...\n",
      "2       [[  0   0   0   0   0   0   0   0   0   0   0 ...\n",
      "3       [[  0   0   0   0   0   0   0   0   0   0   0 ...\n",
      "4       [[  0   0   0   0   0   0   0   0   0   0   0 ...\n",
      "                              ...                        \n",
      "9995    [[  0   0   0   0   0   0   0   0   0   0   0 ...\n",
      "9996    [[  0   0   0   0   0   0   0   0   0   0   0 ...\n",
      "9997    [[  0   0   0   0   0   0   0   0   0   0   0 ...\n",
      "9998    [[  0   0   0   0   0   0   0   0   0   0   0 ...\n",
      "9999    [[  0   0   0   0   0   0   0   0   0   0   0 ...\n",
      "Name: image, Length: 10000, dtype: object>, <bound method IndexOpsMixin.to_numpy of 0       7\n",
      "1       2\n",
      "2       1\n",
      "3       0\n",
      "4       4\n",
      "       ..\n",
      "9995    2\n",
      "9996    3\n",
      "9997    4\n",
      "9998    5\n",
      "9999    6\n",
      "Name: label, Length: 10000, dtype: int64>))\n"
     ]
    }
   ],
   "source": [
    "final_output=((x1,x2), (y1,y2))\n",
    "print(final_output)"
   ]
  },
  {
   "cell_type": "code",
   "execution_count": 12,
   "id": "e9e9c6f2",
   "metadata": {},
   "outputs": [
    {
     "data": {
      "text/plain": [
       "tuple"
      ]
     },
     "execution_count": 12,
     "metadata": {},
     "output_type": "execute_result"
    }
   ],
   "source": [
    "type(final_output)"
   ]
  }
 ],
 "metadata": {
  "kernelspec": {
   "display_name": "Python 3 (ipykernel)",
   "language": "python",
   "name": "python3"
  },
  "language_info": {
   "codemirror_mode": {
    "name": "ipython",
    "version": 3
   },
   "file_extension": ".py",
   "mimetype": "text/x-python",
   "name": "python",
   "nbconvert_exporter": "python",
   "pygments_lexer": "ipython3",
   "version": "3.9.7"
  }
 },
 "nbformat": 4,
 "nbformat_minor": 5
}
