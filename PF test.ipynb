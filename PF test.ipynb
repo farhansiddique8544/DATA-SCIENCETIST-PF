{
 "cells": [
  {
   "cell_type": "code",
   "execution_count": 7,
   "id": "b0d0e5da",
   "metadata": {},
   "outputs": [
    {
     "data": {
      "text/plain": [
       "3"
      ]
     },
     "execution_count": 7,
     "metadata": {},
     "output_type": "execute_result"
    }
   ],
   "source": [
    "def solution(x):\n",
    "    count = 0\n",
    "    for i in x:\n",
    "        if i % 2 == 0:\n",
    "          count += 1\n",
    "    return count\n",
    "x= [1, 2, 3, 4, 5, 6]\n",
    "solution(x)"
   ]
  },
  {
   "cell_type": "code",
   "execution_count": 16,
   "id": "876a7c36",
   "metadata": {},
   "outputs": [
    {
     "data": {
      "text/plain": [
       "(11, 6)"
      ]
     },
     "execution_count": 16,
     "metadata": {},
     "output_type": "execute_result"
    }
   ],
   "source": [
    "def solution(x):\n",
    "    letters_count = 0\n",
    "    digits_count = 0\n",
    "    for i in x:\n",
    "        if i.isalpha():\n",
    "            letters_count += 1\n",
    "        elif i.isdigit():\n",
    "            digits_count += 1\n",
    "    return (letters_count, digits_count)\n",
    "solution(\"ygfdwe653434dffew\")"
   ]
  },
  {
   "cell_type": "code",
   "execution_count": 48,
   "id": "f354cfb1",
   "metadata": {},
   "outputs": [
    {
     "data": {
      "text/plain": [
       "True"
      ]
     },
     "execution_count": 48,
     "metadata": {},
     "output_type": "execute_result"
    }
   ],
   "source": [
    "# A website requires a password to register a user. Write a function solution which inputs a password (string) and validate it on following rules.\n",
    "\n",
    "# Password should contain at least one letter from [a-z]\n",
    "# Password should contain at least one letter from [A-Z]\n",
    "# Password should contain at least one character from [@,$,#]\n",
    "# Password should contain at least one digit from [0-9]\n",
    "# Password should have a minimum length of 6.\n",
    "\n",
    "# The function will return True in case of valid password and False in case of in-valid password.\n",
    "\n",
    "\n",
    "def solution(pw):\n",
    "    lowercase = 'abcdefghijklmnopqrstuvwxyz'\n",
    "    uppercase = 'ABCDEFGHIJKLMNOPQRSTUVWXYZ'\n",
    "    special = '@$#'\n",
    "    digits = '0123456789'\n",
    "    \n",
    "    if len(pw) < 6:\n",
    "        return False\n",
    "    if not any(i in lowercase for i in pw):\n",
    "        return False\n",
    "    if not any(i in uppercase for i in pw):\n",
    "        return False\n",
    "    if not any(i in special for i in pw):\n",
    "        return False\n",
    "    if not any(i in digits for i in pw):\n",
    "        return False\n",
    "    else:\n",
    "        return True\n",
    "\n",
    "\n",
    "pw = 'aA@aaa34aaa'\n",
    "solution(pw)"
   ]
  },
  {
   "cell_type": "code",
   "execution_count": 56,
   "id": "858a25e6",
   "metadata": {},
   "outputs": [
    {
     "ename": "TypeError",
     "evalue": "'str' object is not callable",
     "output_type": "error",
     "traceback": [
      "\u001b[1;31m---------------------------------------------------------------------------\u001b[0m",
      "\u001b[1;31mTypeError\u001b[0m                                 Traceback (most recent call last)",
      "\u001b[1;32m~\\AppData\\Local\\Temp/ipykernel_6768/2978010257.py\u001b[0m in \u001b[0;36m<module>\u001b[1;34m\u001b[0m\n\u001b[0;32m      9\u001b[0m \u001b[1;33m\u001b[0m\u001b[0m\n\u001b[0;32m     10\u001b[0m \u001b[1;31m# x = \"vmxibkgrlm\"\u001b[0m\u001b[1;33m\u001b[0m\u001b[1;33m\u001b[0m\u001b[0m\n\u001b[1;32m---> 11\u001b[1;33m \u001b[0msolution\u001b[0m\u001b[1;33m(\u001b[0m\u001b[1;34m\"vmxibkgrlm\"\u001b[0m\u001b[1;33m)\u001b[0m\u001b[1;33m\u001b[0m\u001b[1;33m\u001b[0m\u001b[0m\n\u001b[0m",
      "\u001b[1;32m~\\AppData\\Local\\Temp/ipykernel_6768/2978010257.py\u001b[0m in \u001b[0;36msolution\u001b[1;34m(x)\u001b[0m\n\u001b[0;32m      3\u001b[0m    \u001b[1;32mfor\u001b[0m \u001b[0mi\u001b[0m \u001b[1;32min\u001b[0m \u001b[0mx\u001b[0m\u001b[1;33m:\u001b[0m\u001b[1;33m\u001b[0m\u001b[1;33m\u001b[0m\u001b[0m\n\u001b[0;32m      4\u001b[0m        \u001b[1;32mif\u001b[0m \u001b[0mi\u001b[0m\u001b[1;33m.\u001b[0m\u001b[0mislower\u001b[0m\u001b[1;33m(\u001b[0m\u001b[1;33m)\u001b[0m\u001b[1;33m:\u001b[0m\u001b[1;33m\u001b[0m\u001b[1;33m\u001b[0m\u001b[0m\n\u001b[1;32m----> 5\u001b[1;33m            \u001b[0mresult\u001b[0m \u001b[1;33m+=\u001b[0m \u001b[0mi\u001b[0m\u001b[1;33m(\u001b[0m\u001b[0mord\u001b[0m\u001b[1;33m(\u001b[0m\u001b[1;34m'z'\u001b[0m\u001b[1;33m)\u001b[0m \u001b[1;33m-\u001b[0m \u001b[0mord\u001b[0m\u001b[1;33m(\u001b[0m\u001b[0mi\u001b[0m\u001b[1;33m)\u001b[0m \u001b[1;33m+\u001b[0m \u001b[0mord\u001b[0m\u001b[1;33m(\u001b[0m\u001b[1;34m'a'\u001b[0m\u001b[1;33m)\u001b[0m\u001b[1;33m)\u001b[0m\u001b[1;33m\u001b[0m\u001b[1;33m\u001b[0m\u001b[0m\n\u001b[0m\u001b[0;32m      6\u001b[0m        \u001b[1;32melse\u001b[0m\u001b[1;33m:\u001b[0m\u001b[1;33m\u001b[0m\u001b[1;33m\u001b[0m\u001b[0m\n\u001b[0;32m      7\u001b[0m            \u001b[0mresult\u001b[0m \u001b[1;33m+=\u001b[0m \u001b[0mi\u001b[0m\u001b[1;33m\u001b[0m\u001b[1;33m\u001b[0m\u001b[0m\n",
      "\u001b[1;31mTypeError\u001b[0m: 'str' object is not callable"
     ]
    }
   ],
   "source": [
    "# You are a advance cryptographers and you have to write a code for it.\n",
    "# In the code, every lowercase letter [a..z] is replaced with the corresponding one in [z..a],\n",
    "# while every other character (including uppercase letters and punctuation) is left untouched.\n",
    "# That is, 'a' becomes 'z', 'b' becomes 'y', 'c' becomes 'x', etc. For instance, the word \"\"vmxibkgrlm\"\", when decoded,\n",
    "# would become \"\"encryption\"\".Write a function called solution which takes in a string and returns the deciphered string.\n",
    "\n",
    "\n",
    "    \n",
    "    def solution(x):\n",
    "    result = \"\"\n",
    "    for i in x:\n",
    "        if i.islower():\n",
    "            result += i(ord('z') - ord(i) + ord('a'))\n",
    "        else:\n",
    "            result += i\n",
    "    return result\n",
    "\n",
    "# x = \"vmxibkgrlm\"\n",
    "solution(\"vmxibkgrlm\")"
   ]
  },
  {
   "cell_type": "code",
   "execution_count": 75,
   "id": "85523b43",
   "metadata": {},
   "outputs": [
    {
     "data": {
      "text/plain": [
       "\"did you see last night's episode?\""
      ]
     },
     "execution_count": 75,
     "metadata": {},
     "output_type": "execute_result"
    }
   ],
   "source": [
    "# You are a advance cryptographers and you have to write a code for it. In the code, every lowercase letter [a..z] is replaced with the corresponding one in [z..a], while every other character (including uppercase letters and punctuation) is left untouched. That is, 'a' becomes 'z', 'b' becomes 'y', 'c' becomes 'x', etc. For instance, the word \"\"vmxibkgrlm\"\", when decoded, would become \"\"encryption\"\".\n",
    "# Write a function called solution which takes in a string and returns the deciphered string.\n",
    "\n",
    "\n",
    "def reverse_lc(x):\n",
    "    deciphered = \"\"\n",
    "    for v in x:\n",
    "        if v.isalpha() and v.islower():\n",
    "            deciphered += chr(219 - ord(v))\n",
    "        else:\n",
    "            deciphered += v\n",
    "    return deciphered\n",
    "\n",
    "x = \"wrw blf hvv ozhg mrtsg'h vkrhlwv?\"\n",
    "reverse_lc(x)"
   ]
  },
  {
   "cell_type": "code",
   "execution_count": 114,
   "id": "185c38ac",
   "metadata": {},
   "outputs": [
    {
     "data": {
      "text/plain": [
       "[2, 3, 4, 5, 7, 9, 'Queen', 'Queen', 'King', 'Ace', 65]"
      ]
     },
     "execution_count": 114,
     "metadata": {},
     "output_type": "execute_result"
    }
   ],
   "source": [
    "# Write a function named solution which takes a list containing valid integers (2 to 10) and\n",
    "# valid strings ('Jack', 'Queen', 'King' and 'Ace') with exact spellings as argument.\n",
    "# This function should return the same list after sorting.\n",
    "# Sorting precedence: 2, 3, 4, 5, 6, 7, 8, 9, 10, 'Jack', 'Queen', 'King', 'Ace'\n",
    "\n",
    "def solution(x):\n",
    "    # Define a dictionary that maps card values to integers for sorting\n",
    "    card_values = {'2': 2, '3': 3, '4': 4, '5': 5, '6': 6, '7': 7, '8': 8, '9': 9, '10': 10,\n",
    "                   'Jack': 11, 'Queen': 12, 'King': 13, 'Ace': 14}\n",
    "\n",
    "    # Define a key function that maps each element to its corresponding sort value\n",
    "    def sort_key(elem):\n",
    "        if isinstance(elem, int):\n",
    "            return elem\n",
    "        else:\n",
    "            return card_values[elem]\n",
    "\n",
    "    # Sort the list using the key function\n",
    "    x.sort(key=sort_key)\n",
    "\n",
    "    return x\n",
    "# solution(['Jack',2,4,3,'Queen'])\n",
    "solution([2,3,5,4,'Queen',7,'Ace','Queen',65, 9,'King'])"
   ]
  },
  {
   "cell_type": "code",
   "execution_count": 121,
   "id": "983f1f37",
   "metadata": {},
   "outputs": [
    {
     "name": "stdout",
     "output_type": "stream",
     "text": [
      "['0.9.2', '1.0.2', '1.5.3', '1.9.8', '2.3.1', '4.9.5']\n"
     ]
    }
   ],
   "source": [
    "# Write a function named as solution which takes a list containing strings with\n",
    "# versions numbers separated by two dots as argument.\n",
    "# This function should return the versions after sorting.\n",
    "\n",
    "def solution(x):\n",
    "    \n",
    "    return sorted(x)\n",
    "\n",
    "versions = [\"1.0.2\", \"2.3.1\", \"1.5.3\", \"0.9.2\",\"4.9.5\",\"1.9.8\"]\n",
    "sorted_versions = solution(versions)\n",
    "print(sorted_versions)"
   ]
  },
  {
   "cell_type": "code",
   "execution_count": 123,
   "id": "77538fc6",
   "metadata": {},
   "outputs": [
    {
     "data": {
      "text/plain": [
       "['1.0.4', '2.5.4', '3.8.5', '6.8.1']"
      ]
     },
     "execution_count": 123,
     "metadata": {},
     "output_type": "execute_result"
    }
   ],
   "source": [
    "def solution(x):\n",
    "    return sorted(x)\n",
    "# x=[\"3.8.5\",\"6.8.1\",\"1.0.4\",\"2.5.4\"]\n",
    "solution([\"3.8.5\",\"6.8.1\",\"1.0.4\",\"2.5.4\"])"
   ]
  },
  {
   "cell_type": "code",
   "execution_count": 128,
   "id": "622b3ddd",
   "metadata": {},
   "outputs": [
    {
     "data": {
      "text/plain": [
       "'A'"
      ]
     },
     "execution_count": 128,
     "metadata": {},
     "output_type": "execute_result"
    }
   ],
   "source": [
    "# In Excel the column is labelled with alphabets A, B, C and so on. After Z the next column is assigned\n",
    "# AA, AB, AC, …., ZY, ZZ, AAA, AAB and so on.\n",
    "# Write a function named as solution which takes an integer as argument and returns its corresponding column label.\n",
    "\n",
    "def solution(x):\n",
    "    result = []\n",
    "    while x > 0:\n",
    "        # Subtract 1 from n so that the range is from 0 to 25 instead of 1 to 26.\n",
    "        x -= 1\n",
    "        # Calculate the remainder of n divided by 26, which gives us the rightmost letter.\n",
    "        r = x % 26\n",
    "        # Convert the remainder to a letter and add it to the result list.\n",
    "        result.append(chr(r + ord('A')))\n",
    "        # Divide n by 26 and truncate the result, which shifts the range one column to the right.\n",
    "        x //= 26\n",
    "    # Reverse the result list and concatenate the letters to form the final column label.\n",
    "    return ''.join(reversed(result))\n",
    "\n",
    "solution(1)   # Output: A\n",
    "# solution(26)  # Output: Z\n",
    "# solution(27)  # Output: AA\n",
    "# solution(28)  # Output: AB\n",
    "# solution(701) # Output: ZY\n",
    "# solution(702) # Output: ZZ\n",
    "# solution(703) # Output: AAA\n",
    "# solution(704) # Output: AAB"
   ]
  },
  {
   "cell_type": "code",
   "execution_count": 135,
   "id": "6871f78b",
   "metadata": {},
   "outputs": [
    {
     "data": {
      "text/plain": [
       "'PORTUGAL'"
      ]
     },
     "execution_count": 135,
     "metadata": {},
     "output_type": "execute_result"
    }
   ],
   "source": [
    "# Write the function named as solution for the following sample input and output.\n",
    "\n",
    "# Example 1\n",
    "# In: solution([\"P>E\",\"E>R\",\"R>U\"])\n",
    "# Out: PERU\n",
    "\n",
    "# Example 2\n",
    "# In: solution([\"I>N\",\"A>I\",\"P>A\",\"S>P\"])\n",
    "# Out: SPAIN\n",
    "\n",
    "# Example 3\n",
    "# In: solution([\"U>N\", \"G>A\", \"R>Y\", \"H>U\", \"N>G\", \"A>R\"])\n",
    "# Out: HUNGARY\n",
    "\n",
    "# Example 4\n",
    "# In: solution([\"I>F\", \"W>I\", \"S>W\", \"F>T\"])\n",
    "# Out: SWIFT\n",
    "\n",
    "# Example 5\n",
    "# In: solution([\"R>T\", \"A>L\", \"P>O\", \"O>R\", \"G>A\", \"T>U\", \"U>G\"])\n",
    "# Out: PORTUGAL\n",
    "\n",
    "def solution(x):\n",
    "    # create a dictionary to store the relationships between characters\n",
    "    d = {}\n",
    "    for i in x:\n",
    "        a, b = i.split(\">\")\n",
    "        d[a] = b\n",
    "    # find the character that doesn't appear as a value in the dictionary\n",
    "    output = [v for v in d.keys() if v not in d.values()][0]\n",
    "    # following the relationships to construct the resulting word\n",
    "#     result = start\n",
    "    while output[-1] in d:\n",
    "        output += d[output[-1]]\n",
    "    return output\n",
    "solution([\"R>T\", \"A>L\", \"P>O\", \"O>R\", \"G>A\", \"T>U\", \"U>G\"])"
   ]
  },
  {
   "cell_type": "code",
   "execution_count": 4,
   "id": "d7218942",
   "metadata": {},
   "outputs": [
    {
     "data": {
      "text/plain": [
       "'96'"
      ]
     },
     "execution_count": 4,
     "metadata": {},
     "output_type": "execute_result"
    }
   ],
   "source": [
    "# In a prison cells are stacked in triangular shape, and cells are give ids staring from the corner as follow.\n",
    "\n",
    "# | 7\n",
    "# | 4 8\n",
    "# | 2 5 9\n",
    "# | 1 3 6 10\n",
    "\n",
    "# Each cell can represent as points [x, y], with x being distance from the vertical wall, and y being the height from the ground.\n",
    "\n",
    "# For Example the cell at [1, 1] has ID 1, the cell at [3, 2] has ID 9, and the cell at [2, 3] has ID 8. This pattern of numbering continues indefinitely (as more cells are being added).\n",
    "\n",
    "# Write function solution([x, y]) which returns the cell ID at location [x, y]. Each value of x and y will be at least 1 and no greater than 100,000. As the cell ID may be very large number, return it in form of string.\n",
    "\n",
    "# Example 1\n",
    "# In: solution([5,10])\n",
    "# Out: '96'\n",
    "\n",
    "# Example 2\n",
    "# In: solutionccc\n",
    "# Out: '9'c\n",
    "def solution(x):\n",
    "    a,b=x\n",
    "    subtract_b =b-1\n",
    "    edge = a+subtract_b\n",
    "    id = edge*(edge+1) // 2\n",
    "    id-=subtract_b\n",
    "    return str(id)\n",
    "solution([5,10])"
   ]
  },
  {
   "cell_type": "markdown",
   "id": "b43e7e01",
   "metadata": {},
   "source": [
    "# PYTHON PRACTICE"
   ]
  },
  {
   "cell_type": "code",
   "execution_count": 36,
   "id": "e9a791d8",
   "metadata": {},
   "outputs": [
    {
     "data": {
      "text/plain": [
       "'earth.mars.venus'"
      ]
     },
     "execution_count": 36,
     "metadata": {},
     "output_type": "execute_result"
    }
   ],
   "source": [
    "def concat(*args, sep=\" \"):\n",
    "    return sep.join(args)\n",
    "concat(\"earth\", \"mars\", \"venus\",sep=\".\")\n",
    "# concat(\"earth\", \"mars\", \"venus\", sep=\".\")"
   ]
  },
  {
   "cell_type": "code",
   "execution_count": 29,
   "id": "82b7c20c",
   "metadata": {},
   "outputs": [
    {
     "name": "stdout",
     "output_type": "stream",
     "text": [
      "This is  a function VOOM if you put four million argument through it. E's bleedin' demised !\n"
     ]
    }
   ],
   "source": [
    "def parrot(voltage, state, action):\n",
    "    print(\"This is  a function\", action, end=' ')\n",
    "    print(\"if you put\", voltage, \"argument through it.\", end=' ')\n",
    "    print(\"E's\", state, \"!\")\n",
    "d = {\"voltage\":\"four million\", \"state\": \"bleedin' demised\", \"action\": \"VOOM\"}\n",
    "parrot(**d)"
   ]
  },
  {
   "cell_type": "code",
   "execution_count": 35,
   "id": "75a60001",
   "metadata": {},
   "outputs": [
    {
     "name": "stdout",
     "output_type": "stream",
     "text": [
      "'hello, world\\n'\n"
     ]
    }
   ],
   "source": [
    "hello = 'hello, world\\n'\n",
    "hlo=repr(hello)\n",
    "print(hlo)"
   ]
  },
  {
   "cell_type": "code",
   "execution_count": 40,
   "id": "0d48bbc8",
   "metadata": {},
   "outputs": [
    {
     "name": "stdout",
     "output_type": "stream",
     "text": [
      "The value of pi is approximately 3.142.\n"
     ]
    }
   ],
   "source": [
    "import math\n",
    "print(f\"The value of pi is approximately {math.pi:.3f}.\")"
   ]
  }
 ],
 "metadata": {
  "kernelspec": {
   "display_name": "Python 3 (ipykernel)",
   "language": "python",
   "name": "python3"
  },
  "language_info": {
   "codemirror_mode": {
    "name": "ipython",
    "version": 3
   },
   "file_extension": ".py",
   "mimetype": "text/x-python",
   "name": "python",
   "nbconvert_exporter": "python",
   "pygments_lexer": "ipython3",
   "version": "3.9.7"
  }
 },
 "nbformat": 4,
 "nbformat_minor": 5
}
